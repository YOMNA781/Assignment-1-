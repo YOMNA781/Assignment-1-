{
 "cells": [
  {
   "cell_type": "code",
   "execution_count": 7,
   "id": "980bfe09",
   "metadata": {},
   "outputs": [],
   "source": [
    "def tanh(x):    \n",
    "    e_pos = 1.0\n",
    "    e_neg = 1.0\n",
    "    term = 1.0  \n",
    "    for i in range(1, 20):  \n",
    "        term *= x / i\n",
    "        e_pos += term\n",
    "        e_neg += ((-1)**i) * term\n",
    "    return (e_pos - e_neg) / (e_pos + e_neg)"
   ]
  },
  {
   "cell_type": "code",
   "execution_count": 8,
   "id": "14576845",
   "metadata": {},
   "outputs": [],
   "source": [
    "def dot_product(vec1, vec2):\n",
    "    result = 0.0\n",
    "    for i in range(len(vec1)):\n",
    "        result += vec1[i] * vec2[i]\n",
    "    return result"
   ]
  },
  {
   "cell_type": "code",
   "execution_count": 9,
   "id": "7b1a3589",
   "metadata": {},
   "outputs": [],
   "source": [
    "def simple_random(seed):\n",
    "    \n",
    "    a = 1664525\n",
    "    c = 1013904223\n",
    "    m = 2**32\n",
    "    return ((a * seed + c) % m) / m  "
   ]
  },
  {
   "cell_type": "code",
   "execution_count": 10,
   "id": "564098b3",
   "metadata": {},
   "outputs": [],
   "source": [
    "def random_weight(seed):\n",
    "    return simple_random(seed) - 0.5\n"
   ]
  },
  {
   "cell_type": "code",
   "execution_count": 11,
   "id": "85697b9b",
   "metadata": {},
   "outputs": [],
   "source": [
    "input_vector = [0.6, -0.3]  \n",
    "seed = 1  \n",
    "hidden_weights = [\n",
    "    [random_weight(seed), random_weight(seed + 1)],  \n",
    "    [random_weight(seed + 2), random_weight(seed + 3)]  \n",
    "    \n",
    "]\n",
    "b1 = 0.5"
   ]
  },
  {
   "cell_type": "code",
   "execution_count": 12,
   "id": "9f672419",
   "metadata": {},
   "outputs": [
    {
     "name": "stdout",
     "output_type": "stream",
     "text": [
      "Output of the network: 0.4556073452131621\n"
     ]
    }
   ],
   "source": [
    "hidden_outputs = []\n",
    "for neuron_weights in hidden_weights:\n",
    "    activation = dot_product(input_vector, neuron_weights) + b1\n",
    "    output = tanh(activation)\n",
    "    hidden_outputs.append(output)\n",
    "\n",
    "\n",
    "output_weights = [random_weight(seed + 4), random_weight(seed + 5)]  \n",
    "b2 = 0.7  \n",
    "\n",
    "final_activation = dot_product(hidden_outputs, output_weights) + b2\n",
    "final_output = tanh(final_activation)\n",
    "\n",
    "\n",
    "print(\"Output of the network:\", final_output)"
   ]
  },
  {
   "cell_type": "code",
   "execution_count": null,
   "id": "c10a3b5f",
   "metadata": {},
   "outputs": [],
   "source": []
  },
  {
   "cell_type": "code",
   "execution_count": null,
   "id": "727acce0",
   "metadata": {},
   "outputs": [],
   "source": []
  }
 ],
 "metadata": {
  "kernelspec": {
   "display_name": "Python 3 (ipykernel)",
   "language": "python",
   "name": "python3"
  },
  "language_info": {
   "codemirror_mode": {
    "name": "ipython",
    "version": 3
   },
   "file_extension": ".py",
   "mimetype": "text/x-python",
   "name": "python",
   "nbconvert_exporter": "python",
   "pygments_lexer": "ipython3",
   "version": "3.9.13"
  }
 },
 "nbformat": 4,
 "nbformat_minor": 5
}
